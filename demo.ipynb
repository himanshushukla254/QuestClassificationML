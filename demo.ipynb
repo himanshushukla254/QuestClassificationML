{
 "cells": [
  {
   "cell_type": "code",
   "execution_count": 3,
   "metadata": {},
   "outputs": [
    {
     "name": "stdout",
     "output_type": "stream",
     "text": [
      "naive bayes score ==>  0.847972972973\n",
      "SVM score ==>  0.939189189189\n",
      "RandomForestClassifier Score ==>  0.908783783784\n",
      "LogisticRegression Score 0.929054054054\n"
     ]
    }
   ],
   "source": [
    "import pandas as pd\n",
    "import numpy as np\n",
    "from sklearn.feature_extraction.text import CountVectorizer\n",
    "from sklearn.metrics import accuracy_score as accscr\n",
    "from sklearn.naive_bayes import MultinomialNB\n",
    "from sklearn.model_selection import train_test_split,cross_val_score\n",
    "\n",
    "#Read Data from text file\n",
    "df = pd.read_csv('LabelledData (1).txt',sep = '?')\n",
    "#setting data frame column\n",
    "df.columns = ['QUEST','CLS']\n",
    "#replacing , with blank space\n",
    "df['CLS'] = df['CLS'].str.replace(\",\",\"\")\n",
    "# filling nan values with unknown\n",
    "df['CLS'] = df['CLS'].fillna('unknown')\n",
    "\n",
    "\n",
    "what_df = df[df['CLS'].str.contains('what')]\n",
    "who_df = df[df['CLS'].str.contains('who')]\n",
    "unk_df = df[df['CLS'].str.contains('unknown')]\n",
    "when_df = df[df['CLS'].str.contains('when')]\n",
    "aff_df = df[df['CLS'].str.contains('affirmation')]\n",
    "\n",
    "#joining the data \n",
    "insample = pd.concat([what_df,when_df,who_df,aff_df,unk_df],axis=0)\n",
    "\n",
    "#setting up target and features\n",
    "count_vectorizer = CountVectorizer()\n",
    "counts = count_vectorizer.fit_transform(insample['QUEST'].values)\n",
    "targets = insample['CLS'].values\n",
    "\n",
    "#spilitting data for cross validation\n",
    "X_train, X_test, y_train, y_test = train_test_split(counts,targets, test_size=0.2)\n",
    "\n",
    "#### Naive Bayes Test ####\n",
    "\n",
    "classifier = MultinomialNB()\n",
    "classifier.fit(X_train, y_train)\n",
    "\n",
    "clf_nb = classifier.predict(X_test)\n",
    "#print clf_nb to get the output from naive bayes classifier\n",
    "print 'naive bayes score ==> ',  classifier.score(X_test,y_test)\n",
    "\n",
    "\n",
    "#### SVM Test ########\n",
    "\n",
    "from sklearn import svm\n",
    "model = svm.SVC(kernel='linear',gamma=1) \n",
    "model.fit(X_train,y_train)\n",
    "clf_svm = model.predict(X_test)\n",
    "#print clf_svm to get the output from svm classifier\n",
    "print 'SVM score ==> ',  model.score(X_test,y_test)\n",
    "\n",
    "\n",
    "###### RFC ############\n",
    "from sklearn.ensemble import RandomForestClassifier\n",
    "clf = RandomForestClassifier()\n",
    "clf.fit(X_train,y_train)\n",
    "clf_res = clf.predict(X_test)\n",
    "#print clf_res to get the output of random forest classifier\n",
    "print \"RandomForestClassifier Score ==> \", clf.score(X_test,y_test)\n",
    "\n",
    "\n",
    "######### LOGIT #########\n",
    "from sklearn.linear_model import LogisticRegression\n",
    "clf = LogisticRegression()\n",
    "clf.fit(X_train,y_train)\n",
    "clf_lr = clf.predict(X_test)\n",
    "#print clf_lr to get the output of logistic regression classifier\n",
    "print \"LogisticRegression Score\", clf.score(X_test,y_test)\n",
    "\n"
   ]
  },
  {
   "cell_type": "code",
   "execution_count": null,
   "metadata": {},
   "outputs": [],
   "source": []
  },
  {
   "cell_type": "code",
   "execution_count": null,
   "metadata": {},
   "outputs": [],
   "source": []
  },
  {
   "cell_type": "code",
   "execution_count": null,
   "metadata": {},
   "outputs": [],
   "source": []
  }
 ],
 "metadata": {
  "kernelspec": {
   "display_name": "Python 2",
   "language": "python",
   "name": "python2"
  },
  "language_info": {
   "codemirror_mode": {
    "name": "ipython",
    "version": 2
   },
   "file_extension": ".py",
   "mimetype": "text/x-python",
   "name": "python",
   "nbconvert_exporter": "python",
   "pygments_lexer": "ipython2",
   "version": "2.7.13"
  }
 },
 "nbformat": 4,
 "nbformat_minor": 2
}
